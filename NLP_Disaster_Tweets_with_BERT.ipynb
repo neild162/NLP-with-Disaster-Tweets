{
  "nbformat": 4,
  "nbformat_minor": 0,
  "metadata": {
    "colab": {
      "name": "NLP_Disaster_Tweets with BERT.ipynb",
      "provenance": [],
      "collapsed_sections": []
    },
    "kernelspec": {
      "name": "python3",
      "display_name": "Python 3"
    },
    "language_info": {
      "name": "python"
    },
    "widgets": {
      "application/vnd.jupyter.widget-state+json": {
        "b4d105cac3ea4116b2c7f7d705e06e33": {
          "model_module": "@jupyter-widgets/controls",
          "model_name": "HBoxModel",
          "state": {
            "_view_name": "HBoxView",
            "_dom_classes": [],
            "_model_name": "HBoxModel",
            "_view_module": "@jupyter-widgets/controls",
            "_model_module_version": "1.5.0",
            "_view_count": null,
            "_view_module_version": "1.5.0",
            "box_style": "",
            "layout": "IPY_MODEL_b1b87cd3a2384f88baf48cacf3b8b641",
            "_model_module": "@jupyter-widgets/controls",
            "children": [
              "IPY_MODEL_3a80713bb45d4f69bd9455c6e73bb576",
              "IPY_MODEL_9d2aa037298544f490d84bb145efed88"
            ]
          }
        },
        "b1b87cd3a2384f88baf48cacf3b8b641": {
          "model_module": "@jupyter-widgets/base",
          "model_name": "LayoutModel",
          "state": {
            "_view_name": "LayoutView",
            "grid_template_rows": null,
            "right": null,
            "justify_content": null,
            "_view_module": "@jupyter-widgets/base",
            "overflow": null,
            "_model_module_version": "1.2.0",
            "_view_count": null,
            "flex_flow": null,
            "width": null,
            "min_width": null,
            "border": null,
            "align_items": null,
            "bottom": null,
            "_model_module": "@jupyter-widgets/base",
            "top": null,
            "grid_column": null,
            "overflow_y": null,
            "overflow_x": null,
            "grid_auto_flow": null,
            "grid_area": null,
            "grid_template_columns": null,
            "flex": null,
            "_model_name": "LayoutModel",
            "justify_items": null,
            "grid_row": null,
            "max_height": null,
            "align_content": null,
            "visibility": null,
            "align_self": null,
            "height": null,
            "min_height": null,
            "padding": null,
            "grid_auto_rows": null,
            "grid_gap": null,
            "max_width": null,
            "order": null,
            "_view_module_version": "1.2.0",
            "grid_template_areas": null,
            "object_position": null,
            "object_fit": null,
            "grid_auto_columns": null,
            "margin": null,
            "display": null,
            "left": null
          }
        },
        "3a80713bb45d4f69bd9455c6e73bb576": {
          "model_module": "@jupyter-widgets/controls",
          "model_name": "FloatProgressModel",
          "state": {
            "_view_name": "ProgressView",
            "style": "IPY_MODEL_d704efe822bc4d2c99ac085c754fb986",
            "_dom_classes": [],
            "description": "100%",
            "_model_name": "FloatProgressModel",
            "bar_style": "success",
            "max": 30,
            "_view_module": "@jupyter-widgets/controls",
            "_model_module_version": "1.5.0",
            "value": 30,
            "_view_count": null,
            "_view_module_version": "1.5.0",
            "orientation": "horizontal",
            "min": 0,
            "description_tooltip": null,
            "_model_module": "@jupyter-widgets/controls",
            "layout": "IPY_MODEL_871c533e195c4d0a8551c2e265278e8b"
          }
        },
        "9d2aa037298544f490d84bb145efed88": {
          "model_module": "@jupyter-widgets/controls",
          "model_name": "HTMLModel",
          "state": {
            "_view_name": "HTMLView",
            "style": "IPY_MODEL_a7af5bc93b934b6fac0dad05147100a4",
            "_dom_classes": [],
            "description": "",
            "_model_name": "HTMLModel",
            "placeholder": "​",
            "_view_module": "@jupyter-widgets/controls",
            "_model_module_version": "1.5.0",
            "value": " 30/30 [00:00&lt;00:00, 30.64it/s]",
            "_view_count": null,
            "_view_module_version": "1.5.0",
            "description_tooltip": null,
            "_model_module": "@jupyter-widgets/controls",
            "layout": "IPY_MODEL_268099abf7974389b29349a0e1814ba1"
          }
        },
        "d704efe822bc4d2c99ac085c754fb986": {
          "model_module": "@jupyter-widgets/controls",
          "model_name": "ProgressStyleModel",
          "state": {
            "_view_name": "StyleView",
            "_model_name": "ProgressStyleModel",
            "description_width": "initial",
            "_view_module": "@jupyter-widgets/base",
            "_model_module_version": "1.5.0",
            "_view_count": null,
            "_view_module_version": "1.2.0",
            "bar_color": null,
            "_model_module": "@jupyter-widgets/controls"
          }
        },
        "871c533e195c4d0a8551c2e265278e8b": {
          "model_module": "@jupyter-widgets/base",
          "model_name": "LayoutModel",
          "state": {
            "_view_name": "LayoutView",
            "grid_template_rows": null,
            "right": null,
            "justify_content": null,
            "_view_module": "@jupyter-widgets/base",
            "overflow": null,
            "_model_module_version": "1.2.0",
            "_view_count": null,
            "flex_flow": null,
            "width": null,
            "min_width": null,
            "border": null,
            "align_items": null,
            "bottom": null,
            "_model_module": "@jupyter-widgets/base",
            "top": null,
            "grid_column": null,
            "overflow_y": null,
            "overflow_x": null,
            "grid_auto_flow": null,
            "grid_area": null,
            "grid_template_columns": null,
            "flex": null,
            "_model_name": "LayoutModel",
            "justify_items": null,
            "grid_row": null,
            "max_height": null,
            "align_content": null,
            "visibility": null,
            "align_self": null,
            "height": null,
            "min_height": null,
            "padding": null,
            "grid_auto_rows": null,
            "grid_gap": null,
            "max_width": null,
            "order": null,
            "_view_module_version": "1.2.0",
            "grid_template_areas": null,
            "object_position": null,
            "object_fit": null,
            "grid_auto_columns": null,
            "margin": null,
            "display": null,
            "left": null
          }
        },
        "a7af5bc93b934b6fac0dad05147100a4": {
          "model_module": "@jupyter-widgets/controls",
          "model_name": "DescriptionStyleModel",
          "state": {
            "_view_name": "StyleView",
            "_model_name": "DescriptionStyleModel",
            "description_width": "",
            "_view_module": "@jupyter-widgets/base",
            "_model_module_version": "1.5.0",
            "_view_count": null,
            "_view_module_version": "1.2.0",
            "_model_module": "@jupyter-widgets/controls"
          }
        },
        "268099abf7974389b29349a0e1814ba1": {
          "model_module": "@jupyter-widgets/base",
          "model_name": "LayoutModel",
          "state": {
            "_view_name": "LayoutView",
            "grid_template_rows": null,
            "right": null,
            "justify_content": null,
            "_view_module": "@jupyter-widgets/base",
            "overflow": null,
            "_model_module_version": "1.2.0",
            "_view_count": null,
            "flex_flow": null,
            "width": null,
            "min_width": null,
            "border": null,
            "align_items": null,
            "bottom": null,
            "_model_module": "@jupyter-widgets/base",
            "top": null,
            "grid_column": null,
            "overflow_y": null,
            "overflow_x": null,
            "grid_auto_flow": null,
            "grid_area": null,
            "grid_template_columns": null,
            "flex": null,
            "_model_name": "LayoutModel",
            "justify_items": null,
            "grid_row": null,
            "max_height": null,
            "align_content": null,
            "visibility": null,
            "align_self": null,
            "height": null,
            "min_height": null,
            "padding": null,
            "grid_auto_rows": null,
            "grid_gap": null,
            "max_width": null,
            "order": null,
            "_view_module_version": "1.2.0",
            "grid_template_areas": null,
            "object_position": null,
            "object_fit": null,
            "grid_auto_columns": null,
            "margin": null,
            "display": null,
            "left": null
          }
        },
        "5359cc5b2c8e4f19a92c6e364447d62e": {
          "model_module": "@jupyter-widgets/controls",
          "model_name": "HBoxModel",
          "state": {
            "_view_name": "HBoxView",
            "_dom_classes": [],
            "_model_name": "HBoxModel",
            "_view_module": "@jupyter-widgets/controls",
            "_model_module_version": "1.5.0",
            "_view_count": null,
            "_view_module_version": "1.5.0",
            "box_style": "",
            "layout": "IPY_MODEL_bfafa7ffbdb440a6b0dd76c47712c8bb",
            "_model_module": "@jupyter-widgets/controls",
            "children": [
              "IPY_MODEL_2f933d63be28450f92d273b557bc18df",
              "IPY_MODEL_dad5e0aa0d7f46ccb50981f1117cb97c"
            ]
          }
        },
        "bfafa7ffbdb440a6b0dd76c47712c8bb": {
          "model_module": "@jupyter-widgets/base",
          "model_name": "LayoutModel",
          "state": {
            "_view_name": "LayoutView",
            "grid_template_rows": null,
            "right": null,
            "justify_content": null,
            "_view_module": "@jupyter-widgets/base",
            "overflow": null,
            "_model_module_version": "1.2.0",
            "_view_count": null,
            "flex_flow": null,
            "width": null,
            "min_width": null,
            "border": null,
            "align_items": null,
            "bottom": null,
            "_model_module": "@jupyter-widgets/base",
            "top": null,
            "grid_column": null,
            "overflow_y": null,
            "overflow_x": null,
            "grid_auto_flow": null,
            "grid_area": null,
            "grid_template_columns": null,
            "flex": null,
            "_model_name": "LayoutModel",
            "justify_items": null,
            "grid_row": null,
            "max_height": null,
            "align_content": null,
            "visibility": null,
            "align_self": null,
            "height": null,
            "min_height": null,
            "padding": null,
            "grid_auto_rows": null,
            "grid_gap": null,
            "max_width": null,
            "order": null,
            "_view_module_version": "1.2.0",
            "grid_template_areas": null,
            "object_position": null,
            "object_fit": null,
            "grid_auto_columns": null,
            "margin": null,
            "display": null,
            "left": null
          }
        },
        "2f933d63be28450f92d273b557bc18df": {
          "model_module": "@jupyter-widgets/controls",
          "model_name": "FloatProgressModel",
          "state": {
            "_view_name": "ProgressView",
            "style": "IPY_MODEL_5eefa8801b1442bf96daf0caf78e6224",
            "_dom_classes": [],
            "description": "100%",
            "_model_name": "FloatProgressModel",
            "bar_style": "success",
            "max": 13,
            "_view_module": "@jupyter-widgets/controls",
            "_model_module_version": "1.5.0",
            "value": 13,
            "_view_count": null,
            "_view_module_version": "1.5.0",
            "orientation": "horizontal",
            "min": 0,
            "description_tooltip": null,
            "_model_module": "@jupyter-widgets/controls",
            "layout": "IPY_MODEL_de121e9e9dd94d7badef0cddb96217d6"
          }
        },
        "dad5e0aa0d7f46ccb50981f1117cb97c": {
          "model_module": "@jupyter-widgets/controls",
          "model_name": "HTMLModel",
          "state": {
            "_view_name": "HTMLView",
            "style": "IPY_MODEL_efeef6da360044f88a9e2eb98fb9a28d",
            "_dom_classes": [],
            "description": "",
            "_model_name": "HTMLModel",
            "placeholder": "​",
            "_view_module": "@jupyter-widgets/controls",
            "_model_module_version": "1.5.0",
            "value": " 13/13 [00:00&lt;00:00, 25.49it/s]",
            "_view_count": null,
            "_view_module_version": "1.5.0",
            "description_tooltip": null,
            "_model_module": "@jupyter-widgets/controls",
            "layout": "IPY_MODEL_8ac99d5b19764f96acbef855921aef6a"
          }
        },
        "5eefa8801b1442bf96daf0caf78e6224": {
          "model_module": "@jupyter-widgets/controls",
          "model_name": "ProgressStyleModel",
          "state": {
            "_view_name": "StyleView",
            "_model_name": "ProgressStyleModel",
            "description_width": "initial",
            "_view_module": "@jupyter-widgets/base",
            "_model_module_version": "1.5.0",
            "_view_count": null,
            "_view_module_version": "1.2.0",
            "bar_color": null,
            "_model_module": "@jupyter-widgets/controls"
          }
        },
        "de121e9e9dd94d7badef0cddb96217d6": {
          "model_module": "@jupyter-widgets/base",
          "model_name": "LayoutModel",
          "state": {
            "_view_name": "LayoutView",
            "grid_template_rows": null,
            "right": null,
            "justify_content": null,
            "_view_module": "@jupyter-widgets/base",
            "overflow": null,
            "_model_module_version": "1.2.0",
            "_view_count": null,
            "flex_flow": null,
            "width": null,
            "min_width": null,
            "border": null,
            "align_items": null,
            "bottom": null,
            "_model_module": "@jupyter-widgets/base",
            "top": null,
            "grid_column": null,
            "overflow_y": null,
            "overflow_x": null,
            "grid_auto_flow": null,
            "grid_area": null,
            "grid_template_columns": null,
            "flex": null,
            "_model_name": "LayoutModel",
            "justify_items": null,
            "grid_row": null,
            "max_height": null,
            "align_content": null,
            "visibility": null,
            "align_self": null,
            "height": null,
            "min_height": null,
            "padding": null,
            "grid_auto_rows": null,
            "grid_gap": null,
            "max_width": null,
            "order": null,
            "_view_module_version": "1.2.0",
            "grid_template_areas": null,
            "object_position": null,
            "object_fit": null,
            "grid_auto_columns": null,
            "margin": null,
            "display": null,
            "left": null
          }
        },
        "efeef6da360044f88a9e2eb98fb9a28d": {
          "model_module": "@jupyter-widgets/controls",
          "model_name": "DescriptionStyleModel",
          "state": {
            "_view_name": "StyleView",
            "_model_name": "DescriptionStyleModel",
            "description_width": "",
            "_view_module": "@jupyter-widgets/base",
            "_model_module_version": "1.5.0",
            "_view_count": null,
            "_view_module_version": "1.2.0",
            "_model_module": "@jupyter-widgets/controls"
          }
        },
        "8ac99d5b19764f96acbef855921aef6a": {
          "model_module": "@jupyter-widgets/base",
          "model_name": "LayoutModel",
          "state": {
            "_view_name": "LayoutView",
            "grid_template_rows": null,
            "right": null,
            "justify_content": null,
            "_view_module": "@jupyter-widgets/base",
            "overflow": null,
            "_model_module_version": "1.2.0",
            "_view_count": null,
            "flex_flow": null,
            "width": null,
            "min_width": null,
            "border": null,
            "align_items": null,
            "bottom": null,
            "_model_module": "@jupyter-widgets/base",
            "top": null,
            "grid_column": null,
            "overflow_y": null,
            "overflow_x": null,
            "grid_auto_flow": null,
            "grid_area": null,
            "grid_template_columns": null,
            "flex": null,
            "_model_name": "LayoutModel",
            "justify_items": null,
            "grid_row": null,
            "max_height": null,
            "align_content": null,
            "visibility": null,
            "align_self": null,
            "height": null,
            "min_height": null,
            "padding": null,
            "grid_auto_rows": null,
            "grid_gap": null,
            "max_width": null,
            "order": null,
            "_view_module_version": "1.2.0",
            "grid_template_areas": null,
            "object_position": null,
            "object_fit": null,
            "grid_auto_columns": null,
            "margin": null,
            "display": null,
            "left": null
          }
        }
      }
    }
  },
  "cells": [
    {
      "cell_type": "code",
      "metadata": {
        "id": "OCN14iMFG4dS"
      },
      "source": [
        "import numpy as np\n",
        "import matplotlib.pyplot as plt\n",
        "import pandas as pd\n",
        "import seaborn as sns\n",
        "import tensorflow as tf"
      ],
      "execution_count": 1,
      "outputs": []
    },
    {
      "cell_type": "code",
      "metadata": {
        "id": "EgoUsGrh5Qgl"
      },
      "source": [
        "tf.config.run_functions_eagerly(True)\n"
      ],
      "execution_count": 2,
      "outputs": []
    },
    {
      "cell_type": "code",
      "metadata": {
        "colab": {
          "base_uri": "https://localhost:8080/"
        },
        "id": "QMzkyhJmq7XL",
        "outputId": "10676424-ab9b-4947-fe1a-20890302f15a"
      },
      "source": [
        "!pip install transformers"
      ],
      "execution_count": 3,
      "outputs": [
        {
          "output_type": "stream",
          "text": [
            "Requirement already satisfied: transformers in /usr/local/lib/python3.7/dist-packages (4.4.2)\n",
            "Requirement already satisfied: tokenizers<0.11,>=0.10.1 in /usr/local/lib/python3.7/dist-packages (from transformers) (0.10.1)\n",
            "Requirement already satisfied: packaging in /usr/local/lib/python3.7/dist-packages (from transformers) (20.9)\n",
            "Requirement already satisfied: sacremoses in /usr/local/lib/python3.7/dist-packages (from transformers) (0.0.43)\n",
            "Requirement already satisfied: importlib-metadata; python_version < \"3.8\" in /usr/local/lib/python3.7/dist-packages (from transformers) (3.8.1)\n",
            "Requirement already satisfied: filelock in /usr/local/lib/python3.7/dist-packages (from transformers) (3.0.12)\n",
            "Requirement already satisfied: numpy>=1.17 in /usr/local/lib/python3.7/dist-packages (from transformers) (1.19.5)\n",
            "Requirement already satisfied: requests in /usr/local/lib/python3.7/dist-packages (from transformers) (2.23.0)\n",
            "Requirement already satisfied: tqdm>=4.27 in /usr/local/lib/python3.7/dist-packages (from transformers) (4.41.1)\n",
            "Requirement already satisfied: regex!=2019.12.17 in /usr/local/lib/python3.7/dist-packages (from transformers) (2019.12.20)\n",
            "Requirement already satisfied: pyparsing>=2.0.2 in /usr/local/lib/python3.7/dist-packages (from packaging->transformers) (2.4.7)\n",
            "Requirement already satisfied: joblib in /usr/local/lib/python3.7/dist-packages (from sacremoses->transformers) (1.0.1)\n",
            "Requirement already satisfied: six in /usr/local/lib/python3.7/dist-packages (from sacremoses->transformers) (1.15.0)\n",
            "Requirement already satisfied: click in /usr/local/lib/python3.7/dist-packages (from sacremoses->transformers) (7.1.2)\n",
            "Requirement already satisfied: zipp>=0.5 in /usr/local/lib/python3.7/dist-packages (from importlib-metadata; python_version < \"3.8\"->transformers) (3.4.1)\n",
            "Requirement already satisfied: typing-extensions>=3.6.4; python_version < \"3.8\" in /usr/local/lib/python3.7/dist-packages (from importlib-metadata; python_version < \"3.8\"->transformers) (3.7.4.3)\n",
            "Requirement already satisfied: chardet<4,>=3.0.2 in /usr/local/lib/python3.7/dist-packages (from requests->transformers) (3.0.4)\n",
            "Requirement already satisfied: urllib3!=1.25.0,!=1.25.1,<1.26,>=1.21.1 in /usr/local/lib/python3.7/dist-packages (from requests->transformers) (1.24.3)\n",
            "Requirement already satisfied: certifi>=2017.4.17 in /usr/local/lib/python3.7/dist-packages (from requests->transformers) (2020.12.5)\n",
            "Requirement already satisfied: idna<3,>=2.5 in /usr/local/lib/python3.7/dist-packages (from requests->transformers) (2.10)\n"
          ],
          "name": "stdout"
        }
      ]
    },
    {
      "cell_type": "code",
      "metadata": {
        "id": "sS8gegIEq8PZ"
      },
      "source": [
        "\n",
        "tf.compat.v1.logging.set_verbosity(tf.compat.v1.logging.ERROR)\n",
        "from tokenizers import BertWordPieceTokenizer\n",
        "from tqdm.notebook import tqdm\n",
        "from tensorflow.keras.layers import Dense, Input\n",
        "from tensorflow.keras.optimizers import Adam\n",
        "from tensorflow.keras.models import Model\n",
        "from tensorflow.keras.callbacks import ModelCheckpoint\n",
        "from tensorflow.keras import backend as K\n",
        "import transformers\n",
        "from transformers import TFAutoModel, AutoTokenizer\n",
        "import matplotlib.pyplot as plt\n"
      ],
      "execution_count": 4,
      "outputs": []
    },
    {
      "cell_type": "code",
      "metadata": {
        "id": "3z0ZtumbrGWI"
      },
      "source": [
        "try:\n",
        "   tpu = tf.distribute.cluster_resolver.TPUClusterResolver()\n",
        "   print('Running on TPU ', tpu.master())\n",
        "except ValueError:\n",
        "   tpu = None\n",
        " \n",
        "if tpu:\n",
        "   tf.config.experimental_connect_to_cluster(tpu)\n",
        "   tf.tpu.experimental.initialize_tpu_system(tpu)\n",
        "   strategy = tf.distribute.TPUStrategy(tpu)\n",
        "else:\n",
        "   strategy = tf.distribute.get_strategy()"
      ],
      "execution_count": 5,
      "outputs": []
    },
    {
      "cell_type": "code",
      "metadata": {
        "id": "LxvCmKMCHOdX"
      },
      "source": [
        "trainset=pd.read_csv('train.csv')\n",
        "testset=pd.read_csv('test.csv')"
      ],
      "execution_count": 6,
      "outputs": []
    },
    {
      "cell_type": "code",
      "metadata": {
        "colab": {
          "base_uri": "https://localhost:8080/",
          "height": 194
        },
        "id": "in24oAlnHSfF",
        "outputId": "38d675e9-3536-4a87-8b7c-bdf22bc72870"
      },
      "source": [
        "trainset.head()"
      ],
      "execution_count": 7,
      "outputs": [
        {
          "output_type": "execute_result",
          "data": {
            "text/html": [
              "<div>\n",
              "<style scoped>\n",
              "    .dataframe tbody tr th:only-of-type {\n",
              "        vertical-align: middle;\n",
              "    }\n",
              "\n",
              "    .dataframe tbody tr th {\n",
              "        vertical-align: top;\n",
              "    }\n",
              "\n",
              "    .dataframe thead th {\n",
              "        text-align: right;\n",
              "    }\n",
              "</style>\n",
              "<table border=\"1\" class=\"dataframe\">\n",
              "  <thead>\n",
              "    <tr style=\"text-align: right;\">\n",
              "      <th></th>\n",
              "      <th>id</th>\n",
              "      <th>keyword</th>\n",
              "      <th>location</th>\n",
              "      <th>text</th>\n",
              "      <th>target</th>\n",
              "    </tr>\n",
              "  </thead>\n",
              "  <tbody>\n",
              "    <tr>\n",
              "      <th>0</th>\n",
              "      <td>1</td>\n",
              "      <td>NaN</td>\n",
              "      <td>NaN</td>\n",
              "      <td>Our Deeds are the Reason of this #earthquake M...</td>\n",
              "      <td>1</td>\n",
              "    </tr>\n",
              "    <tr>\n",
              "      <th>1</th>\n",
              "      <td>4</td>\n",
              "      <td>NaN</td>\n",
              "      <td>NaN</td>\n",
              "      <td>Forest fire near La Ronge Sask. Canada</td>\n",
              "      <td>1</td>\n",
              "    </tr>\n",
              "    <tr>\n",
              "      <th>2</th>\n",
              "      <td>5</td>\n",
              "      <td>NaN</td>\n",
              "      <td>NaN</td>\n",
              "      <td>All residents asked to 'shelter in place' are ...</td>\n",
              "      <td>1</td>\n",
              "    </tr>\n",
              "    <tr>\n",
              "      <th>3</th>\n",
              "      <td>6</td>\n",
              "      <td>NaN</td>\n",
              "      <td>NaN</td>\n",
              "      <td>13,000 people receive #wildfires evacuation or...</td>\n",
              "      <td>1</td>\n",
              "    </tr>\n",
              "    <tr>\n",
              "      <th>4</th>\n",
              "      <td>7</td>\n",
              "      <td>NaN</td>\n",
              "      <td>NaN</td>\n",
              "      <td>Just got sent this photo from Ruby #Alaska as ...</td>\n",
              "      <td>1</td>\n",
              "    </tr>\n",
              "  </tbody>\n",
              "</table>\n",
              "</div>"
            ],
            "text/plain": [
              "   id keyword  ...                                               text target\n",
              "0   1     NaN  ...  Our Deeds are the Reason of this #earthquake M...      1\n",
              "1   4     NaN  ...             Forest fire near La Ronge Sask. Canada      1\n",
              "2   5     NaN  ...  All residents asked to 'shelter in place' are ...      1\n",
              "3   6     NaN  ...  13,000 people receive #wildfires evacuation or...      1\n",
              "4   7     NaN  ...  Just got sent this photo from Ruby #Alaska as ...      1\n",
              "\n",
              "[5 rows x 5 columns]"
            ]
          },
          "metadata": {
            "tags": []
          },
          "execution_count": 7
        }
      ]
    },
    {
      "cell_type": "code",
      "metadata": {
        "colab": {
          "base_uri": "https://localhost:8080/"
        },
        "id": "EhWrzCfkHWXq",
        "outputId": "a88cf323-e796-4f7d-9502-89af4268c0e7"
      },
      "source": [
        "trainset.isnull().sum()"
      ],
      "execution_count": 8,
      "outputs": [
        {
          "output_type": "execute_result",
          "data": {
            "text/plain": [
              "id             0\n",
              "keyword       61\n",
              "location    2533\n",
              "text           0\n",
              "target         0\n",
              "dtype: int64"
            ]
          },
          "metadata": {
            "tags": []
          },
          "execution_count": 8
        }
      ]
    },
    {
      "cell_type": "code",
      "metadata": {
        "colab": {
          "base_uri": "https://localhost:8080/",
          "height": 194
        },
        "id": "qGEuGJSQHeYp",
        "outputId": "8f0c9004-e21e-4299-feb7-91caf3c17f1c"
      },
      "source": [
        "testset.head()"
      ],
      "execution_count": 9,
      "outputs": [
        {
          "output_type": "execute_result",
          "data": {
            "text/html": [
              "<div>\n",
              "<style scoped>\n",
              "    .dataframe tbody tr th:only-of-type {\n",
              "        vertical-align: middle;\n",
              "    }\n",
              "\n",
              "    .dataframe tbody tr th {\n",
              "        vertical-align: top;\n",
              "    }\n",
              "\n",
              "    .dataframe thead th {\n",
              "        text-align: right;\n",
              "    }\n",
              "</style>\n",
              "<table border=\"1\" class=\"dataframe\">\n",
              "  <thead>\n",
              "    <tr style=\"text-align: right;\">\n",
              "      <th></th>\n",
              "      <th>id</th>\n",
              "      <th>keyword</th>\n",
              "      <th>location</th>\n",
              "      <th>text</th>\n",
              "    </tr>\n",
              "  </thead>\n",
              "  <tbody>\n",
              "    <tr>\n",
              "      <th>0</th>\n",
              "      <td>0</td>\n",
              "      <td>NaN</td>\n",
              "      <td>NaN</td>\n",
              "      <td>Just happened a terrible car crash</td>\n",
              "    </tr>\n",
              "    <tr>\n",
              "      <th>1</th>\n",
              "      <td>2</td>\n",
              "      <td>NaN</td>\n",
              "      <td>NaN</td>\n",
              "      <td>Heard about #earthquake is different cities, s...</td>\n",
              "    </tr>\n",
              "    <tr>\n",
              "      <th>2</th>\n",
              "      <td>3</td>\n",
              "      <td>NaN</td>\n",
              "      <td>NaN</td>\n",
              "      <td>there is a forest fire at spot pond, geese are...</td>\n",
              "    </tr>\n",
              "    <tr>\n",
              "      <th>3</th>\n",
              "      <td>9</td>\n",
              "      <td>NaN</td>\n",
              "      <td>NaN</td>\n",
              "      <td>Apocalypse lighting. #Spokane #wildfires</td>\n",
              "    </tr>\n",
              "    <tr>\n",
              "      <th>4</th>\n",
              "      <td>11</td>\n",
              "      <td>NaN</td>\n",
              "      <td>NaN</td>\n",
              "      <td>Typhoon Soudelor kills 28 in China and Taiwan</td>\n",
              "    </tr>\n",
              "  </tbody>\n",
              "</table>\n",
              "</div>"
            ],
            "text/plain": [
              "   id keyword location                                               text\n",
              "0   0     NaN      NaN                 Just happened a terrible car crash\n",
              "1   2     NaN      NaN  Heard about #earthquake is different cities, s...\n",
              "2   3     NaN      NaN  there is a forest fire at spot pond, geese are...\n",
              "3   9     NaN      NaN           Apocalypse lighting. #Spokane #wildfires\n",
              "4  11     NaN      NaN      Typhoon Soudelor kills 28 in China and Taiwan"
            ]
          },
          "metadata": {
            "tags": []
          },
          "execution_count": 9
        }
      ]
    },
    {
      "cell_type": "code",
      "metadata": {
        "colab": {
          "base_uri": "https://localhost:8080/"
        },
        "id": "p1qYE8flHj7x",
        "outputId": "5eae059d-fd71-4e36-e5da-7a9555566531"
      },
      "source": [
        "trainset.value_counts('target')"
      ],
      "execution_count": 10,
      "outputs": [
        {
          "output_type": "execute_result",
          "data": {
            "text/plain": [
              "target\n",
              "0    4342\n",
              "1    3271\n",
              "dtype: int64"
            ]
          },
          "metadata": {
            "tags": []
          },
          "execution_count": 10
        }
      ]
    },
    {
      "cell_type": "code",
      "metadata": {
        "colab": {
          "base_uri": "https://localhost:8080/",
          "height": 279
        },
        "id": "FV7fTN_6HlZG",
        "outputId": "2e4d3f7e-f7eb-4a67-d9af-014cc9faa714"
      },
      "source": [
        "ax = sns.countplot(x=\"target\", data=trainset)"
      ],
      "execution_count": 11,
      "outputs": [
        {
          "output_type": "display_data",
          "data": {
            "image/png": "[encoded data removed]",
            "text/plain": [
              "<Figure size 432x288 with 1 Axes>"
            ]
          },
          "metadata": {
            "tags": [],
            "needs_background": "light"
          }
        }
      ]
    },
    {
      "cell_type": "markdown",
      "metadata": {
        "id": "2l2e35DYHqxG"
      },
      "source": [
        "Words in tweet"
      ]
    },
    {
      "cell_type": "code",
      "metadata": {
        "colab": {
          "base_uri": "https://localhost:8080/",
          "height": 356
        },
        "id": "OzxtkOYnHsG3",
        "outputId": "d9073bca-8492-4ab4-f142-3b045ebad51f"
      },
      "source": [
        "fig,(ax1,ax2)=plt.subplots(1,2,figsize=(10,5))\n",
        "tweet_len=trainset[trainset['target']==1]['text'].str.split().map(lambda x: len(x))\n",
        "ax1.hist(tweet_len,color='red')\n",
        "ax1.set_title('disaster tweets')\n",
        "tweet_len=trainset[trainset['target']==0]['text'].str.split().map(lambda x: len(x))\n",
        "ax2.hist(tweet_len,color='green')\n",
        "ax2.set_title('Not disaster tweets')\n",
        "fig.suptitle('Words in a tweet')\n",
        "plt.show()"
      ],
      "execution_count": 12,
      "outputs": [
        {
          "output_type": "display_data",
          "data": {
            "image/png": "[encoded data removed]",
            "text/plain": [
              "<Figure size 720x360 with 2 Axes>"
            ]
          },
          "metadata": {
            "tags": [],
            "needs_background": "light"
          }
        }
      ]
    },
    {
      "cell_type": "markdown",
      "metadata": {
        "id": "JYcRX_rIH6Ve"
      },
      "source": [
        "Location Column"
      ]
    },
    {
      "cell_type": "code",
      "metadata": {
        "colab": {
          "base_uri": "https://localhost:8080/"
        },
        "id": "z87a7L_EH5tK",
        "outputId": "de3c7c43-b93e-4929-acbb-c2f57a8546e0"
      },
      "source": [
        "trainset.value_counts('location')"
      ],
      "execution_count": 13,
      "outputs": [
        {
          "output_type": "execute_result",
          "data": {
            "text/plain": [
              "location\n",
              "USA                            104\n",
              "New York                        71\n",
              "United States                   50\n",
              "London                          45\n",
              "Canada                          29\n",
              "                              ... \n",
              "Republica Dominicana             1\n",
              "Republic of the Philippines      1\n",
              "Regalo Island                    1\n",
              "Redondo Beach, CA                1\n",
              "                                 1\n",
              "Length: 3341, dtype: int64"
            ]
          },
          "metadata": {
            "tags": []
          },
          "execution_count": 13
        }
      ]
    },
    {
      "cell_type": "code",
      "metadata": {
        "colab": {
          "base_uri": "https://localhost:8080/"
        },
        "id": "7pyEqWEj3yIT",
        "outputId": "9b828b05-1c31-4e53-9d3c-20734ddd88f9"
      },
      "source": [
        "#unique locations\n",
        "print(trainset.location.nunique())"
      ],
      "execution_count": 14,
      "outputs": [
        {
          "output_type": "stream",
          "text": [
            "3341\n"
          ],
          "name": "stdout"
        }
      ]
    },
    {
      "cell_type": "code",
      "metadata": {
        "colab": {
          "base_uri": "https://localhost:8080/"
        },
        "id": "y8LZYnsX35Bp",
        "outputId": "3abe6882-62f1-42cb-f060-efe0727f639a"
      },
      "source": [
        "print(testset.location.nunique())"
      ],
      "execution_count": 15,
      "outputs": [
        {
          "output_type": "stream",
          "text": [
            "1602\n"
          ],
          "name": "stdout"
        }
      ]
    },
    {
      "cell_type": "code",
      "metadata": {
        "colab": {
          "base_uri": "https://localhost:8080/",
          "height": 404
        },
        "id": "HWdjGM4pIIfQ",
        "outputId": "a56fe97e-5690-4785-eec7-572d3ae79da6"
      },
      "source": [
        "# Most common locations appearing in the tweets in the train set\n",
        "plt.figure(figsize=(9,6))\n",
        "sns.countplot(y=trainset.location, order = trainset.location.value_counts().iloc[:20].index)\n",
        "plt.title('Top 20 locations')\n",
        "plt.show()"
      ],
      "execution_count": 16,
      "outputs": [
        {
          "output_type": "display_data",
          "data": {
            "image/png": "[encoded data removed]",
            "text/plain": [
              "<Figure size 648x432 with 1 Axes>"
            ]
          },
          "metadata": {
            "tags": [],
            "needs_background": "light"
          }
        }
      ]
    },
    {
      "cell_type": "code",
      "metadata": {
        "colab": {
          "base_uri": "https://localhost:8080/",
          "height": 404
        },
        "id": "RXg7-YADIMZj",
        "outputId": "57ccc4bf-6c51-402a-fee9-089caf8db30b"
      },
      "source": [
        "# Most common locations appearing in the tweets in the test set\n",
        "plt.figure(figsize=(9,6))\n",
        "sns.countplot(y=testset.location, order = testset.location.value_counts().iloc[:20].index)\n",
        "plt.title('Top 20 locations')\n",
        "plt.show()"
      ],
      "execution_count": 17,
      "outputs": [
        {
          "output_type": "display_data",
          "data": {
            "image/png": "[encoded data removed]",
            "text/plain": [
              "<Figure size 648x432 with 1 Axes>"
            ]
          },
          "metadata": {
            "tags": [],
            "needs_background": "light"
          }
        }
      ]
    },
    {
      "cell_type": "code",
      "metadata": {
        "colab": {
          "base_uri": "https://localhost:8080/",
          "height": 467
        },
        "id": "VJnDUBEpIQkc",
        "outputId": "5294e48d-ab1c-46d5-d764-072fcc593ae8"
      },
      "source": [
        "# % of disaster tweets for the common locations\n",
        "raw_loc = trainset.location.value_counts()\n",
        "top_loc = list(raw_loc[raw_loc>=10].index)\n",
        "top_only = trainset[trainset.location.isin(top_loc)]\n",
        "\n",
        "top_l = top_only.groupby('location').mean()['target'].sort_values(ascending=False)\n",
        "plt.figure(figsize=(14,6))\n",
        "sns.barplot(x=top_l.index, y=top_l)\n",
        "plt.axhline(np.mean(trainset.target))\n",
        "plt.xticks(rotation=80)\n",
        "plt.show()"
      ],
      "execution_count": 18,
      "outputs": [
        {
          "output_type": "display_data",
          "data": {
            "image/png": "[encoded data removed]",
            "text/plain": [
              "<Figure size 1008x432 with 1 Axes>"
            ]
          },
          "metadata": {
            "tags": [],
            "needs_background": "light"
          }
        }
      ]
    },
    {
      "cell_type": "code",
      "metadata": {
        "colab": {
          "base_uri": "https://localhost:8080/"
        },
        "id": "7yKLC3-3Idfc",
        "outputId": "bf62c721-408d-4f65-acc7-a2addadf0bea"
      },
      "source": [
        "trainset.value_counts('keyword')"
      ],
      "execution_count": 19,
      "outputs": [
        {
          "output_type": "execute_result",
          "data": {
            "text/plain": [
              "keyword\n",
              "fatalities               45\n",
              "deluge                   42\n",
              "armageddon               42\n",
              "body%20bags              41\n",
              "sinking                  41\n",
              "                         ..\n",
              "forest%20fire            19\n",
              "epicentre                12\n",
              "threat                   11\n",
              "inundation               10\n",
              "radiation%20emergency     9\n",
              "Length: 221, dtype: int64"
            ]
          },
          "metadata": {
            "tags": []
          },
          "execution_count": 19
        }
      ]
    },
    {
      "cell_type": "code",
      "metadata": {
        "colab": {
          "base_uri": "https://localhost:8080/"
        },
        "id": "zwA26ThEIgAT",
        "outputId": "d34652c8-7868-40d9-acd0-fd7f77116539"
      },
      "source": [
        "testset.value_counts('keyword')"
      ],
      "execution_count": 20,
      "outputs": [
        {
          "output_type": "execute_result",
          "data": {
            "text/plain": [
              "keyword\n",
              "deluged               23\n",
              "rubble                22\n",
              "demolished            22\n",
              "first%20responders    21\n",
              "obliteration          21\n",
              "                      ..\n",
              "forest%20fire          5\n",
              "threat                 5\n",
              "fatalities             5\n",
              "inundation             4\n",
              "epicentre              1\n",
              "Length: 221, dtype: int64"
            ]
          },
          "metadata": {
            "tags": []
          },
          "execution_count": 20
        }
      ]
    },
    {
      "cell_type": "code",
      "metadata": {
        "colab": {
          "base_uri": "https://localhost:8080/",
          "height": 404
        },
        "id": "4l12Pb9WInZi",
        "outputId": "70ac8e4c-178e-4a6a-c564-8d85329f57b4"
      },
      "source": [
        "# Most common keywords appearing in the tweets in the train set\n",
        "plt.figure(figsize=(9,6))\n",
        "sns.countplot(y=trainset.keyword, order = trainset.keyword.value_counts().iloc[:20].index)\n",
        "plt.title('Top 20 keywords')\n",
        "plt.show()"
      ],
      "execution_count": 21,
      "outputs": [
        {
          "output_type": "display_data",
          "data": {
            "image/png": "[encoded data removed]",
            "text/plain": [
              "<Figure size 648x432 with 1 Axes>"
            ]
          },
          "metadata": {
            "tags": [],
            "needs_background": "light"
          }
        }
      ]
    },
    {
      "cell_type": "code",
      "metadata": {
        "colab": {
          "base_uri": "https://localhost:8080/",
          "height": 404
        },
        "id": "IT6djm_1IpZY",
        "outputId": "d8665b0a-353d-4941-8641-d87f298fdfbd"
      },
      "source": [
        "# Most common keywords appearing in the tweets in the test set\n",
        "plt.figure(figsize=(9,6))\n",
        "sns.countplot(y=testset.keyword, order = testset.keyword.value_counts().iloc[:20].index)\n",
        "plt.title('Top 20 keywords')\n",
        "plt.show()"
      ],
      "execution_count": 22,
      "outputs": [
        {
          "output_type": "display_data",
          "data": {
            "image/png": "[encoded data removed]",
            "text/plain": [
              "<Figure size 648x432 with 1 Axes>"
            ]
          },
          "metadata": {
            "tags": [],
            "needs_background": "light"
          }
        }
      ]
    },
    {
      "cell_type": "code",
      "metadata": {
        "id": "vYBpDroQLJfo"
      },
      "source": [
        "trainset.drop(['id','location','keyword'], axis = 1,inplace=True)\n",
        "testset.drop(['id','location','keyword'], axis = 1,inplace=True)"
      ],
      "execution_count": 23,
      "outputs": []
    },
    {
      "cell_type": "code",
      "metadata": {
        "colab": {
          "base_uri": "https://localhost:8080/",
          "height": 194
        },
        "id": "Nl8VMYVfrxK9",
        "outputId": "71baca5a-a2b8-4abc-919d-1ea19bb7b63b"
      },
      "source": [
        "trainset.head()"
      ],
      "execution_count": 24,
      "outputs": [
        {
          "output_type": "execute_result",
          "data": {
            "text/html": [
              "<div>\n",
              "<style scoped>\n",
              "    .dataframe tbody tr th:only-of-type {\n",
              "        vertical-align: middle;\n",
              "    }\n",
              "\n",
              "    .dataframe tbody tr th {\n",
              "        vertical-align: top;\n",
              "    }\n",
              "\n",
              "    .dataframe thead th {\n",
              "        text-align: right;\n",
              "    }\n",
              "</style>\n",
              "<table border=\"1\" class=\"dataframe\">\n",
              "  <thead>\n",
              "    <tr style=\"text-align: right;\">\n",
              "      <th></th>\n",
              "      <th>text</th>\n",
              "      <th>target</th>\n",
              "    </tr>\n",
              "  </thead>\n",
              "  <tbody>\n",
              "    <tr>\n",
              "      <th>0</th>\n",
              "      <td>Our Deeds are the Reason of this #earthquake M...</td>\n",
              "      <td>1</td>\n",
              "    </tr>\n",
              "    <tr>\n",
              "      <th>1</th>\n",
              "      <td>Forest fire near La Ronge Sask. Canada</td>\n",
              "      <td>1</td>\n",
              "    </tr>\n",
              "    <tr>\n",
              "      <th>2</th>\n",
              "      <td>All residents asked to 'shelter in place' are ...</td>\n",
              "      <td>1</td>\n",
              "    </tr>\n",
              "    <tr>\n",
              "      <th>3</th>\n",
              "      <td>13,000 people receive #wildfires evacuation or...</td>\n",
              "      <td>1</td>\n",
              "    </tr>\n",
              "    <tr>\n",
              "      <th>4</th>\n",
              "      <td>Just got sent this photo from Ruby #Alaska as ...</td>\n",
              "      <td>1</td>\n",
              "    </tr>\n",
              "  </tbody>\n",
              "</table>\n",
              "</div>"
            ],
            "text/plain": [
              "                                                text  target\n",
              "0  Our Deeds are the Reason of this #earthquake M...       1\n",
              "1             Forest fire near La Ronge Sask. Canada       1\n",
              "2  All residents asked to 'shelter in place' are ...       1\n",
              "3  13,000 people receive #wildfires evacuation or...       1\n",
              "4  Just got sent this photo from Ruby #Alaska as ...       1"
            ]
          },
          "metadata": {
            "tags": []
          },
          "execution_count": 24
        }
      ]
    },
    {
      "cell_type": "markdown",
      "metadata": {
        "id": "xbezaFexr2OO"
      },
      "source": [
        "Cleaning Data:Install the clean-text package for cleaning the tweets data. The tweets may contain urls, numbers, etc., which are not useful to us in our model development. The clean-text package allows an easy removal of such items."
      ]
    },
    {
      "cell_type": "code",
      "metadata": {
        "colab": {
          "base_uri": "https://localhost:8080/"
        },
        "id": "bRhqf_pUr7ER",
        "outputId": "c8f81e1d-1f1a-4776-8bb9-cf39356baaad"
      },
      "source": [
        "!pip install clean-text[gpl]\n",
        " \n",
        "from cleantext import clean"
      ],
      "execution_count": 25,
      "outputs": [
        {
          "output_type": "stream",
          "text": [
            "Requirement already satisfied: clean-text[gpl] in /usr/local/lib/python3.7/dist-packages (0.3.0)\n",
            "Requirement already satisfied: emoji in /usr/local/lib/python3.7/dist-packages (from clean-text[gpl]) (1.2.0)\n",
            "Requirement already satisfied: ftfy<6.0,>=5.8 in /usr/local/lib/python3.7/dist-packages (from clean-text[gpl]) (5.9)\n",
            "Requirement already satisfied: unidecode<2.0.0,>=1.1.1; extra == \"gpl\" in /usr/local/lib/python3.7/dist-packages (from clean-text[gpl]) (1.2.0)\n",
            "Requirement already satisfied: wcwidth in /usr/local/lib/python3.7/dist-packages (from ftfy<6.0,>=5.8->clean-text[gpl]) (0.2.5)\n"
          ],
          "name": "stdout"
        }
      ]
    },
    {
      "cell_type": "code",
      "metadata": {
        "id": "8z-dABHSsBJc"
      },
      "source": [
        "#We define a function for cleaning an input text with several configurable parameters.\n",
        "def text_cleaning(text):\n",
        "   text=clean(text,\n",
        "     fix_unicode=True,               # fix various unicode errors\n",
        "     to_ascii=True,                 # transliterate to closest ASCII representation\n",
        "     lower=True,                    # lowercase text\n",
        "     no_line_breaks=True,           # fully strip line breaks\n",
        "     no_urls=True,                  # replace all URLs with ''\n",
        "     no_emails=True,                # replace all email addresses with ''\n",
        "     no_phone_numbers=True,         # replace all phone numbers with ''\n",
        "     no_numbers=True,               # replace all numbers with ''\n",
        "     no_digits=True,                # replace all digits with ''\n",
        "     no_currency_symbols=True,      # replace all currency symbols with ''\n",
        "     no_punct=True,                 # fully remove punctuation\n",
        "     replace_with_url=\"\",\n",
        "     replace_with_email=\"\",\n",
        "     replace_with_phone_number=\"\",\n",
        "     replace_with_number=\"\",\n",
        "     replace_with_digit=\"\",\n",
        "     replace_with_currency_symbol=\"\",\n",
        "     lang=\"en\"                      # set to 'en' for English\n",
        "   )\n",
        "   return text"
      ],
      "execution_count": 26,
      "outputs": []
    },
    {
      "cell_type": "code",
      "metadata": {
        "colab": {
          "base_uri": "https://localhost:8080/"
        },
        "id": "3KqgyeNEsM_J",
        "outputId": "cc21d62e-a37f-4c02-a2f5-87f648d4f80d"
      },
      "source": [
        "for i in range(len(trainset)):\n",
        "   trainset['text'].iloc[i]=text_cleaning(trainset['text'].iloc[i])\n",
        "for i in range(len(testset)):\n",
        "   testset['text'].iloc[i]=text_cleaning(testset['text'].iloc[i])   "
      ],
      "execution_count": 27,
      "outputs": [
        {
          "output_type": "stream",
          "text": [
            "/usr/local/lib/python3.7/dist-packages/pandas/core/indexing.py:670: SettingWithCopyWarning: \n",
            "A value is trying to be set on a copy of a slice from a DataFrame\n",
            "\n",
            "See the caveats in the documentation: https://pandas.pydata.org/pandas-docs/stable/user_guide/indexing.html#returning-a-view-versus-a-copy\n",
            "  iloc._setitem_with_indexer(indexer, value)\n"
          ],
          "name": "stderr"
        }
      ]
    },
    {
      "cell_type": "markdown",
      "metadata": {
        "id": "hAmwC6sXsdme"
      },
      "source": [
        "Removing stopwords"
      ]
    },
    {
      "cell_type": "code",
      "metadata": {
        "colab": {
          "base_uri": "https://localhost:8080/"
        },
        "id": "LtdxEV2Use_p",
        "outputId": "927aaf07-9d3f-4461-c8a3-f82f65b0ae29"
      },
      "source": [
        "import nltk\n",
        "from nltk.corpus import stopwords\n",
        "nltk.download('stopwords')\n",
        "stoplist = stopwords.words('english')\n",
        "for i in range(len(trainset)):\n",
        "  trainset['text'].iloc[i] = [word for word in trainset['text'].iloc[i].split() if word not in stoplist]\n",
        "for i in range(len(testset)):\n",
        "  testset['text'].iloc[i] = [word for word in testset['text'].iloc[i].split() if word not in stoplist]  \n"
      ],
      "execution_count": 28,
      "outputs": [
        {
          "output_type": "stream",
          "text": [
            "[nltk_data] Downloading package stopwords to /root/nltk_data...\n",
            "[nltk_data]   Package stopwords is already up-to-date!\n"
          ],
          "name": "stdout"
        },
        {
          "output_type": "stream",
          "text": [
            "/usr/local/lib/python3.7/dist-packages/pandas/core/indexing.py:670: SettingWithCopyWarning: \n",
            "A value is trying to be set on a copy of a slice from a DataFrame\n",
            "\n",
            "See the caveats in the documentation: https://pandas.pydata.org/pandas-docs/stable/user_guide/indexing.html#returning-a-view-versus-a-copy\n",
            "  iloc._setitem_with_indexer(indexer, value)\n"
          ],
          "name": "stderr"
        }
      ]
    },
    {
      "cell_type": "code",
      "metadata": {
        "colab": {
          "base_uri": "https://localhost:8080/",
          "height": 194
        },
        "id": "7p6oRoOGsySq",
        "outputId": "5b8fd29f-4622-417a-e2e1-c0dce66f5e73"
      },
      "source": [
        "trainset.head()"
      ],
      "execution_count": 29,
      "outputs": [
        {
          "output_type": "execute_result",
          "data": {
            "text/html": [
              "<div>\n",
              "<style scoped>\n",
              "    .dataframe tbody tr th:only-of-type {\n",
              "        vertical-align: middle;\n",
              "    }\n",
              "\n",
              "    .dataframe tbody tr th {\n",
              "        vertical-align: top;\n",
              "    }\n",
              "\n",
              "    .dataframe thead th {\n",
              "        text-align: right;\n",
              "    }\n",
              "</style>\n",
              "<table border=\"1\" class=\"dataframe\">\n",
              "  <thead>\n",
              "    <tr style=\"text-align: right;\">\n",
              "      <th></th>\n",
              "      <th>text</th>\n",
              "      <th>target</th>\n",
              "    </tr>\n",
              "  </thead>\n",
              "  <tbody>\n",
              "    <tr>\n",
              "      <th>0</th>\n",
              "      <td>[deeds, reason, earthquake, may, allah, forgiv...</td>\n",
              "      <td>1</td>\n",
              "    </tr>\n",
              "    <tr>\n",
              "      <th>1</th>\n",
              "      <td>[forest, fire, near, la, ronge, sask, canada]</td>\n",
              "      <td>1</td>\n",
              "    </tr>\n",
              "    <tr>\n",
              "      <th>2</th>\n",
              "      <td>[residents, asked, shelter, place, notified, o...</td>\n",
              "      <td>1</td>\n",
              "    </tr>\n",
              "    <tr>\n",
              "      <th>3</th>\n",
              "      <td>[people, receive, wildfires, evacuation, order...</td>\n",
              "      <td>1</td>\n",
              "    </tr>\n",
              "    <tr>\n",
              "      <th>4</th>\n",
              "      <td>[got, sent, photo, ruby, alaska, smoke, wildfi...</td>\n",
              "      <td>1</td>\n",
              "    </tr>\n",
              "  </tbody>\n",
              "</table>\n",
              "</div>"
            ],
            "text/plain": [
              "                                                text  target\n",
              "0  [deeds, reason, earthquake, may, allah, forgiv...       1\n",
              "1      [forest, fire, near, la, ronge, sask, canada]       1\n",
              "2  [residents, asked, shelter, place, notified, o...       1\n",
              "3  [people, receive, wildfires, evacuation, order...       1\n",
              "4  [got, sent, photo, ruby, alaska, smoke, wildfi...       1"
            ]
          },
          "metadata": {
            "tags": []
          },
          "execution_count": 29
        }
      ]
    },
    {
      "cell_type": "markdown",
      "metadata": {
        "id": "ydTJNAiTtD3Q"
      },
      "source": [
        "most common words found in the tweets"
      ]
    },
    {
      "cell_type": "code",
      "metadata": {
        "id": "kv2ynNsEtEWC"
      },
      "source": [
        "# empty list for holding words from each row of trainset['text']\n",
        "text_combined=[]\n",
        "#Making a combined list of all the words from each tweet.\n",
        "for i in range(len(trainset)):\n",
        " text_combined.append(trainset['text'].iloc[i])\n",
        "#Making a combined list of all the words from each tweet.\n",
        "from itertools import chain\n",
        "flatten_list_text = list(chain.from_iterable(text_combined)) "
      ],
      "execution_count": 30,
      "outputs": []
    },
    {
      "cell_type": "code",
      "metadata": {
        "id": "UTjnAoyQtbK1"
      },
      "source": [
        "#Count instances of each word using collections.\n",
        "import collections\n",
        "word_counters = collections.Counter(flatten_list_text)\n",
        "#Make a dataframe with words and their corresponding counts.\n",
        "words_with_counts = pd.DataFrame(word_counters.most_common(15), columns=['words', 'count'])"
      ],
      "execution_count": 31,
      "outputs": []
    },
    {
      "cell_type": "code",
      "metadata": {
        "colab": {
          "base_uri": "https://localhost:8080/",
          "height": 499
        },
        "id": "8vJ4orOCuJoh",
        "outputId": "590bceef-7252-4261-c8d6-ff2f8c012f54"
      },
      "source": [
        "#We will first sort the words in decreasing order of their instances and then plot the most occurring words using matplotlib.\n",
        "fig, ax = plt.subplots(figsize=(8, 8))\n",
        " \n",
        "# Plot horizontal bar graph\n",
        "# plot the frequency distribution after sorting\n",
        "words_with_counts.sort_values(by='count').plot.barh(x='words', \n",
        "                     y='count',\n",
        "                     ax=ax,\n",
        "                     color=\"purple\")\n",
        " \n",
        "ax.set_title(\"Common Words Found in Tweets\")\n",
        " \n",
        "plt.show()"
      ],
      "execution_count": 32,
      "outputs": [
        {
          "output_type": "display_data",
          "data": {
            "image/png": "[encoded data removed]",
            "text/plain": [
              "<Figure size 576x576 with 1 Axes>"
            ]
          },
          "metadata": {
            "tags": [],
            "needs_background": "light"
          }
        }
      ]
    },
    {
      "cell_type": "markdown",
      "metadata": {
        "id": "C1f0Q_S7uQEt"
      },
      "source": [
        "We will now feed this cleaned-up data to a BERT model for Natural Language Modeling."
      ]
    },
    {
      "cell_type": "code",
      "metadata": {
        "id": "1F8EO33buQmc"
      },
      "source": [
        "#We will write our neural network model where the first layer will be the pre-trained BERT model followed by our own network layers.\n",
        "def build_model(transformer, max_len=512):\n",
        "   input_word_ids = Input(shape=(max_len,), dtype=tf.int32, name=\"input_word_ids\")\n",
        "   sequence_output = transformer(input_word_ids)[0]\n",
        "   cls_token = sequence_output[:, 0, :]\n",
        "   x = tf.keras.layers.Dropout(0.35)(cls_token)\n",
        " \n",
        "   # make output dense layer\n",
        "   out = Dense(1, activation='sigmoid')(x)\n",
        "  \n",
        "   model = Model(inputs=input_word_ids, outputs=out)\n",
        "   model.compile(Adam(lr=3e-5), loss='binary_crossentropy',\n",
        "                 metrics=[tf.keras.metrics.AUC()])\n",
        "  \n",
        "   return model\n",
        "#In the above model, the transformer output is passed through a dropout to take care of overfitting, if any. \n",
        "#We then pass the output through a dense layer with sigmoid activation.\n",
        "#We create a model using the Model function with the appropriate parameter values for inputs and outputs as defined above. \n",
        "#We compile the model with Adam optimizer and binary cross entropy loss function.   "
      ],
      "execution_count": 33,
      "outputs": []
    },
    {
      "cell_type": "code",
      "metadata": {
        "colab": {
          "base_uri": "https://localhost:8080/"
        },
        "id": "cGbv5EpA2YsP",
        "outputId": "72f2318f-f9ba-4255-ddd5-a929fe606f9b"
      },
      "source": [
        "#We use the bert-based-uncased pretrained model and pass it our above written build_model function for constructing our model.\n",
        "with strategy.scope():\n",
        "   transformer_layer = transformers.TFBertModel.from_pretrained('bert-base-uncased')\n",
        "   model = build_model(transformer_layer, max_len=51)\n",
        "model.summary()   "
      ],
      "execution_count": 34,
      "outputs": [
        {
          "output_type": "stream",
          "text": [
            "Some layers from the model checkpoint at bert-base-uncased were not used when initializing TFBertModel: ['nsp___cls', 'mlm___cls']\n",
            "- This IS expected if you are initializing TFBertModel from the checkpoint of a model trained on another task or with another architecture (e.g. initializing a BertForSequenceClassification model from a BertForPreTraining model).\n",
            "- This IS NOT expected if you are initializing TFBertModel from the checkpoint of a model that you expect to be exactly identical (initializing a BertForSequenceClassification model from a BertForSequenceClassification model).\n",
            "All the layers of TFBertModel were initialized from the model checkpoint at bert-base-uncased.\n",
            "If your task is similar to the task the model of the checkpoint was trained on, you can already use TFBertModel for predictions without further training.\n"
          ],
          "name": "stderr"
        },
        {
          "output_type": "stream",
          "text": [
            "Model: \"model\"\n",
            "_________________________________________________________________\n",
            "Layer (type)                 Output Shape              Param #   \n",
            "=================================================================\n",
            "input_word_ids (InputLayer)  [(None, 51)]              0         \n",
            "_________________________________________________________________\n",
            "tf_bert_model (TFBertModel)  TFBaseModelOutputWithPool 109482240 \n",
            "_________________________________________________________________\n",
            "tf.__operators__.getitem (Sl (None, 768)               0         \n",
            "_________________________________________________________________\n",
            "dropout_37 (Dropout)         (None, 768)               0         \n",
            "_________________________________________________________________\n",
            "dense (Dense)                (None, 1)                 769       \n",
            "=================================================================\n",
            "Total params: 109,483,009\n",
            "Trainable params: 109,483,009\n",
            "Non-trainable params: 0\n",
            "_________________________________________________________________\n"
          ],
          "name": "stdout"
        }
      ]
    },
    {
      "cell_type": "markdown",
      "metadata": {
        "id": "pj3YayVD2uqJ"
      },
      "source": [
        "Data Preprocessing"
      ]
    },
    {
      "cell_type": "code",
      "metadata": {
        "id": "YGEtVZzS2wrD"
      },
      "source": [
        "#We first tokenize all our input datasets - training and testing. \n",
        "#You will use the BERT pre-trained tokenizer for this purpose. You create a tokenizer instance using the following statement:\n",
        "import transformers\n",
        "tokenizer = transformers.BertTokenizer.from_pretrained('bert-base-uncased')"
      ],
      "execution_count": 35,
      "outputs": []
    },
    {
      "cell_type": "code",
      "metadata": {
        "colab": {
          "base_uri": "https://localhost:8080/"
        },
        "id": "EKH9qIUf23Hc",
        "outputId": "a12d2d99-c391-4db0-a3e8-9c75f2e07924"
      },
      "source": [
        "#Save the loaded tokenizer to your local environment.\n",
        "import os\n",
        "save_path = 'distilbert_base_uncased/'\n",
        "if not os.path.exists(save_path):\n",
        "   os.makedirs(save_path)\n",
        "tokenizer.save_pretrained(save_path)"
      ],
      "execution_count": 36,
      "outputs": [
        {
          "output_type": "execute_result",
          "data": {
            "text/plain": [
              "('distilbert_base_uncased/tokenizer_config.json',\n",
              " 'distilbert_base_uncased/special_tokens_map.json',\n",
              " 'distilbert_base_uncased/vocab.txt',\n",
              " 'distilbert_base_uncased/added_tokens.json')"
            ]
          },
          "metadata": {
            "tags": []
          },
          "execution_count": 36
        }
      ]
    },
    {
      "cell_type": "code",
      "metadata": {
        "colab": {
          "base_uri": "https://localhost:8080/"
        },
        "id": "-ZhHtZUD3W4n",
        "outputId": "c54ae060-286d-4c5d-91c6-b95883eaf470"
      },
      "source": [
        "#Reload it with the Hugging Face tokenizers library.\n",
        "from tokenizers import BertWordPieceTokenizer\n",
        "fast_tokenizer = BertWordPieceTokenizer('distilbert_base_uncased/vocab.txt', lowercase=True)\n",
        "fast_tokenizer"
      ],
      "execution_count": 37,
      "outputs": [
        {
          "output_type": "execute_result",
          "data": {
            "text/plain": [
              "Tokenizer(vocabulary_size=30522, model=BertWordPiece, unk_token=[UNK], sep_token=[SEP], cls_token=[CLS], pad_token=[PAD], mask_token=[MASK], clean_text=True, handle_chinese_chars=True, strip_accents=None, lowercase=True, wordpieces_prefix=##)"
            ]
          },
          "metadata": {
            "tags": []
          },
          "execution_count": 37
        }
      ]
    },
    {
      "cell_type": "code",
      "metadata": {
        "id": "NBTMse9Y3fKb"
      },
      "source": [
        "#You will be using this fast_tokenizer to encode our input. \n",
        "#Next, we write an encode function that uses the above tokenizer for encoding the given text.\n",
        "def fast_encode(texts, tokenizer, size=256, maxlen=512):\n",
        "   tokenizer.enable_truncation(max_length=maxlen)  # truncate the text and limit it to maxlen\n",
        "   tokenizer.enable_padding(length=maxlen)         # pad sentences shorter than maxlen\n",
        "   ids_full = []\n",
        "  \n",
        "   for i in tqdm(range(0, len(texts), size)):\n",
        "       text = texts[i:i+size].tolist()\n",
        "       encs = tokenizer.encode_batch(text)        \n",
        "       ids_full.extend([enc.ids for enc in encs])\n",
        "  \n",
        "   return np.array(ids_full)"
      ],
      "execution_count": 38,
      "outputs": []
    },
    {
      "cell_type": "markdown",
      "metadata": {
        "id": "3bAhScSk3spQ"
      },
      "source": [
        "The fast_encode encodes the text to numbers so that it can be used for model training. Typically, it is used for getting tokens, token types, and attention masks. It outputs a dictionary of encoded text. We now use this encode function to encode our training and testing datasets."
      ]
    },
    {
      "cell_type": "code",
      "metadata": {
        "colab": {
          "base_uri": "https://localhost:8080/",
          "height": 116,
          "referenced_widgets": [
            "b4d105cac3ea4116b2c7f7d705e06e33",
            "b1b87cd3a2384f88baf48cacf3b8b641",
            "3a80713bb45d4f69bd9455c6e73bb576",
            "9d2aa037298544f490d84bb145efed88",
            "d704efe822bc4d2c99ac085c754fb986",
            "871c533e195c4d0a8551c2e265278e8b",
            "a7af5bc93b934b6fac0dad05147100a4",
            "268099abf7974389b29349a0e1814ba1",
            "5359cc5b2c8e4f19a92c6e364447d62e",
            "bfafa7ffbdb440a6b0dd76c47712c8bb",
            "2f933d63be28450f92d273b557bc18df",
            "dad5e0aa0d7f46ccb50981f1117cb97c",
            "5eefa8801b1442bf96daf0caf78e6224",
            "de121e9e9dd94d7badef0cddb96217d6",
            "efeef6da360044f88a9e2eb98fb9a28d",
            "8ac99d5b19764f96acbef855921aef6a"
          ]
        },
        "id": "jgXuZNKe3psU",
        "outputId": "c08040c6-d0f5-432d-e158-7282af9dc451"
      },
      "source": [
        "x = fast_encode(trainset.text.astype(str), fast_tokenizer, maxlen=51)\n",
        "x1 = fast_encode(testset.text.astype(str), fast_tokenizer, maxlen=51)"
      ],
      "execution_count": 52,
      "outputs": [
        {
          "output_type": "display_data",
          "data": {
            "application/vnd.jupyter.widget-view+json": {
              "model_id": "b4d105cac3ea4116b2c7f7d705e06e33",
              "version_minor": 0,
              "version_major": 2
            },
            "text/plain": [
              "HBox(children=(FloatProgress(value=0.0, max=30.0), HTML(value='')))"
            ]
          },
          "metadata": {
            "tags": []
          }
        },
        {
          "output_type": "stream",
          "text": [
            "\n"
          ],
          "name": "stdout"
        },
        {
          "output_type": "display_data",
          "data": {
            "application/vnd.jupyter.widget-view+json": {
              "model_id": "5359cc5b2c8e4f19a92c6e364447d62e",
              "version_minor": 0,
              "version_major": 2
            },
            "text/plain": [
              "HBox(children=(FloatProgress(value=0.0, max=13.0), HTML(value='')))"
            ]
          },
          "metadata": {
            "tags": []
          }
        },
        {
          "output_type": "stream",
          "text": [
            "\n"
          ],
          "name": "stdout"
        }
      ]
    },
    {
      "cell_type": "markdown",
      "metadata": {
        "id": "O5PN_a9H360S"
      },
      "source": [
        "Preparing Datasets"
      ]
    },
    {
      "cell_type": "code",
      "metadata": {
        "id": "WGLjhr_m38g6"
      },
      "source": [
        "#We prepare the dataset for training by creating batches of data using:\n",
        "tf.data.Dataset\n",
        "\n",
        "BATCH_SIZE=32\n",
        "\n",
        "y=trainset['target'].values"
      ],
      "execution_count": 53,
      "outputs": []
    },
    {
      "cell_type": "code",
      "metadata": {
        "id": "oiJTuxkq4Luy"
      },
      "source": [
        "#We reserve 10% data for testing:\n",
        "from sklearn.model_selection import train_test_split\n",
        "X_train, X_test, y_train, y_test = train_test_split(x,y,test_size=0.1, random_state=42)"
      ],
      "execution_count": 55,
      "outputs": []
    },
    {
      "cell_type": "code",
      "metadata": {
        "id": "_JyfGvIu4Ug4"
      },
      "source": [
        "#We create the training dataset using the following statement. The AUTOTUNE parameter prepares the next batch of data while processing the current one.\n",
        "train_dataset = (\n",
        "   tf.data.Dataset\n",
        "     .from_tensor_slices((X_train, y_train))\n",
        "     .repeat()\n",
        "     .shuffle(2048)\n",
        "     .batch(BATCH_SIZE)\n",
        "   .prefetch(tf.data.experimental.AUTOTUNE)\n",
        ")"
      ],
      "execution_count": 56,
      "outputs": []
    },
    {
      "cell_type": "code",
      "metadata": {
        "id": "v-pICy9N4auo"
      },
      "source": [
        "test_data = (\n",
        "   tf.data.Dataset\n",
        "   .from_tensor_slices(X_test)\n",
        "   .batch(BATCH_SIZE)\n",
        ")"
      ],
      "execution_count": 57,
      "outputs": []
    },
    {
      "cell_type": "markdown",
      "metadata": {
        "id": "yfXFOils4dp9"
      },
      "source": [
        "Model Training"
      ]
    },
    {
      "cell_type": "code",
      "metadata": {
        "colab": {
          "base_uri": "https://localhost:8080/"
        },
        "id": "Qd0aPpB64e7A",
        "outputId": "37c23663-7ddb-40bd-a80e-54efa450051f"
      },
      "source": [
        "#We train the model by calling its fit method. \n",
        "#The strategy decides on the distribution strategy on the TPU cluster during training\n",
        "with strategy.scope():\n",
        "   train_history = model.fit(\n",
        "     train_dataset,\n",
        "     steps_per_epoch=10,\n",
        "     epochs = 10\n",
        "   )"
      ],
      "execution_count": 60,
      "outputs": [
        {
          "output_type": "stream",
          "text": [
            "Epoch 1/10\n",
            "10/10 [==============================] - 118s 12s/step - loss: 0.6466 - auc: 0.6260\n",
            "Epoch 2/10\n",
            "10/10 [==============================] - 119s 12s/step - loss: 0.5707 - auc: 0.7534\n",
            "Epoch 3/10\n",
            "10/10 [==============================] - 118s 12s/step - loss: 0.5340 - auc: 0.8091\n",
            "Epoch 4/10\n",
            "10/10 [==============================] - 118s 12s/step - loss: 0.4676 - auc: 0.8496\n",
            "Epoch 5/10\n",
            "10/10 [==============================] - 118s 12s/step - loss: 0.5286 - auc: 0.8070\n",
            "Epoch 6/10\n",
            "10/10 [==============================] - 118s 12s/step - loss: 0.4751 - auc: 0.8623\n",
            "Epoch 7/10\n",
            "10/10 [==============================] - 118s 12s/step - loss: 0.4382 - auc: 0.8759\n",
            "Epoch 8/10\n",
            "10/10 [==============================] - 118s 12s/step - loss: 0.4462 - auc: 0.8630\n",
            "Epoch 9/10\n",
            "10/10 [==============================] - 118s 12s/step - loss: 0.4445 - auc: 0.8639\n",
            "Epoch 10/10\n",
            "10/10 [==============================] - 118s 12s/step - loss: 0.4060 - auc: 0.8810\n"
          ],
          "name": "stdout"
        }
      ]
    },
    {
      "cell_type": "code",
      "metadata": {
        "colab": {
          "base_uri": "https://localhost:8080/"
        },
        "id": "LcQk_Sq3_SZP",
        "outputId": "7411192e-4b60-47ce-c112-6878766b7c2f"
      },
      "source": [
        "predictions = model.predict(X_test)"
      ],
      "execution_count": 61,
      "outputs": [
        {
          "output_type": "stream",
          "text": [
            "/usr/local/lib/python3.7/dist-packages/tensorflow/python/data/ops/dataset_ops.py:3504: UserWarning: Even though the tf.config.experimental_run_functions_eagerly option is set, this option does not apply to tf.data functions. tf.data functions are still traced and executed as graphs.\n",
            "  \"Even though the tf.config.experimental_run_functions_eagerly \"\n"
          ],
          "name": "stderr"
        }
      ]
    },
    {
      "cell_type": "code",
      "metadata": {
        "id": "Gl2ohr31_ZiW"
      },
      "source": [
        "#We flatten the predictions from 2-dim to a 1-dimensional arra\n",
        "flattened_predictions = list(chain.from_iterable(predictions))"
      ],
      "execution_count": 62,
      "outputs": []
    },
    {
      "cell_type": "code",
      "metadata": {
        "id": "aFUyyJ_e_cOK"
      },
      "source": [
        "#We convert the predictions to '0' (non-disaster) or '1' (disaster) using a simple if condition\n",
        "for i in range(len(flattened_predictions)):\n",
        " if flattened_predictions[i] <= 0.5:\n",
        "   flattened_predictions[i] = 0\n",
        " else:\n",
        "   flattened_predictions[i] = 1"
      ],
      "execution_count": 63,
      "outputs": []
    },
    {
      "cell_type": "code",
      "metadata": {
        "colab": {
          "base_uri": "https://localhost:8080/"
        },
        "id": "hTyCRyiS_kKs",
        "outputId": "192daf2b-0202-44a9-8b41-aeeec34cf1d5"
      },
      "source": [
        "from sklearn.metrics import accuracy_score\n",
        "accuracy_score(y_test, flattened_predictions)"
      ],
      "execution_count": 64,
      "outputs": [
        {
          "output_type": "execute_result",
          "data": {
            "text/plain": [
              "0.8097112860892388"
            ]
          },
          "metadata": {
            "tags": []
          },
          "execution_count": 64
        }
      ]
    },
    {
      "cell_type": "code",
      "metadata": {
        "colab": {
          "base_uri": "https://localhost:8080/"
        },
        "id": "sOyTnmCf_9vP",
        "outputId": "0e367868-920d-402b-a6d4-bf4ee10371a2"
      },
      "source": [
        "predictions = model.predict(x1)"
      ],
      "execution_count": 65,
      "outputs": [
        {
          "output_type": "stream",
          "text": [
            "/usr/local/lib/python3.7/dist-packages/tensorflow/python/data/ops/dataset_ops.py:3504: UserWarning: Even though the tf.config.experimental_run_functions_eagerly option is set, this option does not apply to tf.data functions. tf.data functions are still traced and executed as graphs.\n",
            "  \"Even though the tf.config.experimental_run_functions_eagerly \"\n"
          ],
          "name": "stderr"
        }
      ]
    },
    {
      "cell_type": "code",
      "metadata": {
        "id": "_ZMhWRwVALCC"
      },
      "source": [
        "flattened_predictions1 = list(chain.from_iterable(predictions))"
      ],
      "execution_count": 66,
      "outputs": []
    },
    {
      "cell_type": "code",
      "metadata": {
        "id": "JWWStqFLAM6j"
      },
      "source": [
        "#We convert the predictions to '0' (non-disaster) or '1' (disaster) using a simple if condition\n",
        "for i in range(len(flattened_predictions1)):\n",
        " if flattened_predictions1[i] <= 0.5:\n",
        "   flattened_predictions1[i] = 0\n",
        " else:\n",
        "   flattened_predictions1[i] = 1"
      ],
      "execution_count": 67,
      "outputs": []
    },
    {
      "cell_type": "code",
      "metadata": {
        "id": "Efq95xCTAQpD"
      },
      "source": [
        "result_data = pd.read_csv(\"sample_submission.csv\")\n",
        "output = pd.DataFrame({'id': result_data.id, 'target': flattened_predictions1})\n",
        "output.to_csv('my_submission_bert.csv', index=False)"
      ],
      "execution_count": 69,
      "outputs": []
    }
  ]
}